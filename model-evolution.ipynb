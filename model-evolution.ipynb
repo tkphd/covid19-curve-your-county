{
 "cells": [
  {
   "cell_type": "code",
   "execution_count": 1,
   "metadata": {},
   "outputs": [],
   "source": [
    "%matplotlib inline"
   ]
  },
  {
   "cell_type": "code",
   "execution_count": 2,
   "metadata": {},
   "outputs": [],
   "source": [
    "# Choose whether to plot cases, deaths, or both (as column titles)\n",
    "\n",
    "columns = [\"diagnosed\", \"killed\"]"
   ]
  },
  {
   "cell_type": "code",
   "execution_count": 3,
   "metadata": {},
   "outputs": [],
   "source": [
    "# Specify which model to use: \"exp\" for exponential, \"log\" for logistic\n",
    "\n",
    "models = {\"diagnosed\": \"log\",\n",
    "          \"killed\": \"log\"}"
   ]
  },
  {
   "cell_type": "code",
   "execution_count": 4,
   "metadata": {},
   "outputs": [],
   "source": [
    "equations = {\"exp\": \"$f(t) = a (1 + b)^t$\\n$a = {0:.4f} \\pm {2:.5f}$\\n$b = {1:.4f} \\pm {3:.6f}$\", \n",
    "             \"log\": \"$f(t) = c / (1 + \\exp((b - t)/a))$\\n$a = {0:.3f} \\pm {3:.4f}$\\n$b = {1:.2f} \\mp {4:.4f}$\\n$c = {2:.0f}. \\pm {5:.2f}$\"}"
   ]
  },
  {
   "cell_type": "code",
   "execution_count": 5,
   "metadata": {},
   "outputs": [],
   "source": [
    "# Set colors for the plot\n",
    "\n",
    "colors = {\"diagnosed\": \"red\",\n",
    "          \"killed\": \"black\"}"
   ]
  },
  {
   "cell_type": "code",
   "execution_count": 6,
   "metadata": {},
   "outputs": [],
   "source": [
    "# Specify names for dataset (input) and plot (output)\n",
    "\n",
    "dataname = \"us_md_montgomery.csv\"\n",
    "imgname = \"us_md_montgomery.png\""
   ]
  },
  {
   "cell_type": "code",
   "execution_count": 7,
   "metadata": {},
   "outputs": [],
   "source": [
    "# Prepare dicts for stats\n",
    "\n",
    "residuals = {\"diagnosed\": [],\n",
    "             \"killed\": []}\n",
    "\n",
    "chi_sq_red = {\"diagnosed\": 1.0,\n",
    "              \"killed\": 1.0}"
   ]
  },
  {
   "cell_type": "code",
   "execution_count": 8,
   "metadata": {},
   "outputs": [],
   "source": [
    "# Everything else is details\n",
    "\n",
    "import matplotlib.pyplot as plt\n",
    "import numpy as np\n",
    "import pandas as pd\n",
    "from time import strptime\n",
    "from datetime import date\n",
    "from string import Template\n",
    "from scipy.optimize import curve_fit\n",
    "from scipy.stats import describe, chisquare, t\n",
    "from ipywidgets import IntSlider, interact\n",
    "from matplotlib import style\n",
    "style.use(\"seaborn\")"
   ]
  },
  {
   "cell_type": "code",
   "execution_count": 9,
   "metadata": {},
   "outputs": [],
   "source": [
    "# Define the model equation and its Jacobian\n",
    "\n",
    "def f_exp(t, a, b):\n",
    "    # Exponential growth law, $f(t) = a * (1 + b) ^ t$,\n",
    "    # where $a$ is the number of cases at $t=0$ and $b$ is the growth rate.\n",
    "    return a * (1 + b) ** t\n",
    "\n",
    "def df_exp(t, a, b):\n",
    "    # Jacobian: df/dp for p=(a, b)\n",
    "    return np.array([(1 + b) ** t,\n",
    " (a * t * (1 + b) ** t) / (1 + b)]).T\n",
    "\n",
    "def f_log(t, a, b, c):\n",
    "    # Logistic growth law, $f(t) = c / (exp((b - t)/a) + 1)$\n",
    "    return c / (np.exp((b - t)/a) + 1)\n",
    "\n",
    "def df_log(t, a, b, c):\n",
    "    # Jacobian: df/dp for p=(a, b, c)\n",
    "    return np.array([c*(b - t)*np.exp((b - t)/a)/(a**2*(np.exp((b - t)/a) + 1)**2),\n",
    " -c*np.exp((b - t)/a)/(a*(np.exp((b - t)/a) + 1)**2),\n",
    " 1/(np.exp((b - t)/a) + 1)]).T"
   ]
  },
  {
   "cell_type": "code",
   "execution_count": 10,
   "metadata": {},
   "outputs": [],
   "source": [
    "def sigfig(x, n):\n",
    "    # Round a float, x, to n significant figures.\n",
    "    # Source: https://github.com/corriander/python-sigfig\n",
    "    n = int(n)\n",
    "\n",
    "    e = np.floor(np.log10(np.abs(x)) - n + 1) # exponent, 10 ** e\n",
    "    shifted_dp = x / (10 ** e) # decimal place shifted n d.p.\n",
    "    return np.around(shifted_dp) * (10 ** e) # round and revert"
   ]
  },
  {
   "cell_type": "code",
   "execution_count": 11,
   "metadata": {},
   "outputs": [],
   "source": [
    "# Data\n",
    "\n",
    "data = pd.read_csv(dataname)\n",
    "\n",
    "ndays = len(data)"
   ]
  },
  {
   "cell_type": "code",
   "execution_count": 12,
   "metadata": {
    "scrolled": false
   },
   "outputs": [
    {
     "data": {
      "application/vnd.jupyter.widget-view+json": {
       "model_id": "66483b6975a54dc48492015708b11d8f",
       "version_major": 2,
       "version_minor": 0
      },
      "text/plain": [
       "interactive(children=(IntSlider(value=62, continuous_update=False, description='Day of Record:', max=62, min=2…"
      ]
     },
     "metadata": {},
     "output_type": "display_data"
    },
    {
     "data": {
      "text/plain": [
       "<function __main__.fit_dor(dor)>"
      ]
     },
     "execution_count": 12,
     "metadata": {},
     "output_type": "execute_result"
    }
   ],
   "source": [
    "def fit_dor(dor):\n",
    "    fig = plt.figure(figsize=(10, 7))\n",
    "\n",
    "    plt.suptitle(\"COVID-19 in Montgomery County, Maryland, USA\", fontweight=\"bold\")\n",
    "    plt.title(\"github.com/tkphd/covid19-curve-your-county\", style=\"oblique\")\n",
    "    plt.xlabel(\"Day of Record\")\n",
    "    plt.ylabel(\"Number of People\")\n",
    "    \n",
    "    start = strptime(data[\"date\"].iloc[0], \"%Y-%m-%d\")\n",
    "    start = date(start.tm_year, start.tm_mon, start.tm_mday).toordinal()\n",
    "    today = strptime(data[\"date\"].iloc[dor], \"%Y-%m-%d\")\n",
    "    today = date(today.tm_year, today.tm_mon, today.tm_mday).toordinal()\n",
    "    \n",
    "    key = \"diagnosed\"\n",
    "    model = models[key]\n",
    "    f  = f_exp\n",
    "    df = df_exp\n",
    "\n",
    "    if model == \"log\":\n",
    "        f  = f_log\n",
    "        df = df_log\n",
    "\n",
    "    allPeople = np.array(data[key])\n",
    "    allDays   = np.zeros_like(allPeople)\n",
    "    for i in range(len(allPeople)):\n",
    "        day = strptime(data[\"date\"].iloc[i], \"%Y-%m-%d\")\n",
    "        allDays[i] = date(day.tm_year, day.tm_mon, day.tm_mday).toordinal() - start\n",
    "\n",
    "    plt.scatter(allDays, allPeople, marker=\".\", s=10, color=\"white\", edgecolors=colors[key], zorder=10)\n",
    "    plt.xlim([0,   1 + np.amax(allDays)])\n",
    "    plt.ylim([0, 500 + np.amax(allPeople)])\n",
    "    # Subset data from slider\n",
    "\n",
    "    t = allDays[:dor]\n",
    "    y = allPeople[:dor]\n",
    "\n",
    "    # Levenburg-Marquardt Least-Squares Fit\n",
    "    \"\"\"\n",
    "    Note that sigma represents the relative error associated with each data point. By default, `curve_fit`\n",
    "    will assume an array of ones (constant values imply no difference in error), which is probably\n",
    "    incorrect: given sparsity of testing, there's considerable uncertainty, and the earlier numbers may\n",
    "    be lower than the truth to a greater extent than the later numbers. Quantifying this error by some\n",
    "    non-trivial means for each datapoint would produce much more realistic uncertainty bands in the\n",
    "    final plots.\n",
    "    \"\"\"\n",
    "    p, pcov = curve_fit(f, t, y, sigma=None, method=\"lm\", jac=df, maxfev=1000)\n",
    "    coef = describe(pcov)\n",
    "    perr = np.sqrt(np.diag(pcov))\n",
    "\n",
    "    # Reduced chi-square goodness of fit\n",
    "    ## https://en.wikipedia.org/wiki/Reduced_chi-squared_statistic\n",
    "\n",
    "    chisq, chip = chisquare(y, f(t, *p))\n",
    "    ndof = len(y) - len(p) - 1\n",
    "\n",
    "    residuals[key] = f(t, *p) - y\n",
    "    chi_sq_red[key] = chisq / ndof\n",
    "\n",
    "    # Confidence Band: dfdp represents the partial derivatives of the model with respect to each parameter p (i.e., a and b)\n",
    "\n",
    "    t_hat = np.linspace(0, t[-1] + 7, 100)\n",
    "    y_hat = f(t_hat, *p)\n",
    "\n",
    "    if (models[key] == \"log\"):\n",
    "        perr[1] *= -1\n",
    "\n",
    "    upr_p = p + perr\n",
    "    lwr_p = p - perr\n",
    "\n",
    "    if (models[key] == \"log\"):\n",
    "        perr[1] *= -1\n",
    "\n",
    "    upper = f(t_hat, *upr_p)\n",
    "    lower = f(t_hat, *lwr_p)\n",
    "\n",
    "    it = np.argsort(t_hat)\n",
    "    plt.plot(t_hat[it], y_hat[it], c=colors[key], lw=1, zorder=5, label=key.capitalize())\n",
    "    plt.fill_between(\n",
    "        t_hat[it], upper[it], y_hat[it], edgecolor=None, facecolor=\"silver\", zorder=1\n",
    "    )\n",
    "    plt.fill_between(\n",
    "        t_hat[it], lower[it], y_hat[it], edgecolor=None, facecolor=\"silver\", zorder=1\n",
    "    )\n",
    "\n",
    "    # Predictions\n",
    "\n",
    "    dx = 0.25\n",
    "    dt = 14\n",
    "\n",
    "    tomorrow = date.fromordinal(today + 1)\n",
    "    nextWeek = date.fromordinal(today + 7)\n",
    "\n",
    "    t_hat = np.array([tomorrow.toordinal() - start, nextWeek.toordinal() - start])\n",
    "    y_hat = f(t_hat, *p)\n",
    "\n",
    "    upper = f(t_hat, *upr_p)\n",
    "    lower = f(t_hat, *lwr_p)\n",
    "\n",
    "    s = sigfig(p, 4)\n",
    "    serr = sigfig(perr, 4)\n",
    "\n",
    "    # Overlay projections on plot\n",
    "    plt.text(\n",
    "        t_hat[0] - dt,\n",
    "        y_hat[0],\n",
    "        \"{0}/{1}: ({2:.0f} < {3:.0f} < {4:.0f})\".format(\n",
    "        tomorrow.month, tomorrow.day, lower[0], y_hat[0], upper[0]\n",
    "        ),\n",
    "        color=colors[key],\n",
    "        va=\"center\",\n",
    "        ha=\"center\",\n",
    "        zorder=4,\n",
    "        bbox=dict(boxstyle=\"round\", ec=\"gray\", fc=\"ghostwhite\", linewidth=dx)\n",
    "    )\n",
    "\n",
    "    hw = 12\n",
    "    hl = t_hat[1] / 100\n",
    "\n",
    "    plt.arrow(\n",
    "        t_hat[0] - dt,\n",
    "        y_hat[0],\n",
    "        dt - dx + 0.0625,\n",
    "        0,\n",
    "        fc=\"black\",\n",
    "        ec=\"black\",\n",
    "        head_width=hw,\n",
    "        head_length=hl,\n",
    "        overhang=dx,\n",
    "        length_includes_head=True, \n",
    "        linewidth=0.5,\n",
    "        zorder=3,\n",
    "    )\n",
    "\n",
    "    # Save figure    \n",
    "\n",
    "    plt.legend(loc=\"center left\")\n",
    "    plt.show()\n",
    "\n",
    "interact(fit_dor, dor = IntSlider(\n",
    "    value = ndays - 1,\n",
    "    min = 20,\n",
    "    max = ndays - 1,\n",
    "    step = 1,\n",
    "    description = 'Day of Record:',\n",
    "    disabled = False,\n",
    "    continuous_update = False,\n",
    "    orientation = 'horizontal',\n",
    "    readout = True,\n",
    "    readout_format = 'd')\n",
    ")    "
   ]
  },
  {
   "cell_type": "code",
   "execution_count": null,
   "metadata": {},
   "outputs": [],
   "source": []
  }
 ],
 "metadata": {
  "kernelspec": {
   "display_name": "Python 3",
   "language": "python",
   "name": "python3"
  },
  "language_info": {
   "codemirror_mode": {
    "name": "ipython",
    "version": 3
   },
   "file_extension": ".py",
   "mimetype": "text/x-python",
   "name": "python",
   "nbconvert_exporter": "python",
   "pygments_lexer": "ipython3",
   "version": "3.6.10"
  }
 },
 "nbformat": 4,
 "nbformat_minor": 2
}
